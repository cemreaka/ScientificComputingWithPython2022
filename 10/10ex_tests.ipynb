{
 "cells": [
  {
   "cell_type": "code",
   "execution_count": 1,
   "metadata": {},
   "outputs": [],
   "source": [
    "import numpy as np\n",
    "import pandas as pd"
   ]
  },
  {
   "cell_type": "markdown",
   "metadata": {},
   "source": [
    "1\\. **Hurricanes per Year**\n",
    "\n",
    "The number of hurricanes in 2005 was 15. The historic average is 6.3. Is this number signficantly different?\n",
    "- Assume the number of hurricanes is random, i.e. follows the Poisson distribution.\n",
    "- Assume as statistically significant a probability that has a Z score of 3 or larger with respect a normal distribution.\n",
    "\n",
    "**Hint**: compute the probability that in a single year are observed 15 or more hurricances."
   ]
  },
  {
   "cell_type": "code",
   "execution_count": null,
   "metadata": {},
   "outputs": [],
   "source": []
  },
  {
   "cell_type": "markdown",
   "metadata": {},
   "source": [
    "2\\. **Pairwise t-test**\n",
    "\n",
    "In an experiment, a group of 10 individuals agreed to participate in a study of blood pressure changes following exposure to halogen lighting. Resting systolic blood pressure was recorded for each individual. The participants were then exposed to 20 minutes in a room lit only by halogen lamps. A post-exposure systolic blood pressure reading was recorded for each individual. The results are presented in the following data set:\n",
    "\n",
    "```python\n",
    "pre = np.array([120, 132, 120, 110, 115, 128, 120, 112, 110, 100])\n",
    "post = np.array([140, 156, 145, 130, 117, 148, 137, 119, 127, 135])\n",
    "```\n",
    "\n",
    "Determine whether the change in blood pressures within our sample was statistically significant.\n",
    "\n",
    "**Hint:**\n",
    "in this case, the Student's $t$-test should be performed to compare the two datasets.\n",
    "Use the following test statistics:\n",
    "\n",
    "$$T = \\frac{\\bar{x}_1 - \\bar{x}_2}{\\sigma \\sqrt{\\frac{2}{n}}}$$\n",
    "\n",
    "and \n",
    "\n",
    "$$\\sigma = \\sqrt{\\frac{\\sigma_1^2 + \\sigma_2^2}{2}}$$"
   ]
  },
  {
   "cell_type": "code",
   "execution_count": null,
   "metadata": {},
   "outputs": [],
   "source": []
  },
  {
   "cell_type": "markdown",
   "metadata": {},
   "source": [
    "3\\. **Curve fitting of temperature in Alaska** \n",
    "\n",
    "The temperature extremes in Alaska for each month, starting in January, are given by (in degrees Celcius):\n",
    "\n",
    "max:  `17,  19,  21,  28,  33,  38, 37,  37,  31,  23,  19,  18`\n",
    "\n",
    "min: `-62, -59, -56, -46, -32, -18, -9, -13, -25, -46, -52, -58`\n",
    "\n",
    "* Plot these temperatures.\n",
    "* Find a suitable a function that can describe min and max temperatures. \n",
    "* Fit this function to the data with `scipy.optimize.curve_fit()`.\n",
    "* Plot the result. Is the fit reasonable? If not, why?\n",
    "* Is the time offset for min and max temperatures the same within the fit accuracy?"
   ]
  },
  {
   "cell_type": "code",
   "execution_count": null,
   "metadata": {},
   "outputs": [],
   "source": []
  },
  {
   "cell_type": "markdown",
   "metadata": {},
   "source": [
    "4\\. **Fit the residues**\n",
    "\n",
    "Read the `data/residuals_261.pkl` file. If you haven't got it already, download it from here:\n",
    "\n",
    "```bash\n",
    "wget https://www.dropbox.com/s/3uqleyc3wyz52tr/residuals_261.pkl -P data/\n",
    "```\n",
    "\n",
    "The feature named `residual` contains the residuals (defined as $y_i - \\hat{y}_i$) of a linear regression as a function of the independent variable `distances`.\n",
    "\n",
    "- Considering only the \"residual\" feature, create an histogram with the appropriate binning and plot it.\n",
    "- Set the appropriate Poisson uncertainty for each bin (thus, for each bin, $\\sigma_i = \\sqrt{n_i}$, where $n_i$ is the number of entries in each bin)\n",
    "- By looking at the distribution of the residuals, define an appropriate function and fit it to the histogram of the residuals\n",
    "- Perform a goodness-of-fit test. Is the p-value of the fit satisfactory?"
   ]
  },
  {
   "cell_type": "code",
   "execution_count": 1,
   "metadata": {},
   "outputs": [
    {
     "name": "stdout",
     "output_type": "stream",
     "text": [
      "--2022-12-21 10:46:43--  https://www.dropbox.com/s/3uqleyc3wyz52tr/residuals_261.pkl\n",
      "Resolving www.dropbox.com (www.dropbox.com)... 162.125.69.18\n",
      "Connecting to www.dropbox.com (www.dropbox.com)|162.125.69.18|:443... connected.\n",
      "HTTP request sent, awaiting response... 302 Found\n",
      "Location: /s/raw/3uqleyc3wyz52tr/residuals_261.pkl [following]\n",
      "--2022-12-21 10:46:43--  https://www.dropbox.com/s/raw/3uqleyc3wyz52tr/residuals_261.pkl\n",
      "Reusing existing connection to www.dropbox.com:443.\n",
      "HTTP request sent, awaiting response... 302 Found\n",
      "Location: https://ucdfdbb41f40e907e60459c8a068.dl.dropboxusercontent.com/cd/0/inline/BzAU0xrZgM-1Mm53_DQDuRRxpjy5loFWoVNrNMp_9tHAvLfWEbSC3X2evujNx69ce1PiSTUpUAmOSy2EQ3iCwqi_XThxExkDfNQD7dGDPE-Kt47jUrsMcv3jpqBDkv8dZwoo3TPNmxks0xh-wUpJIz9pI8VoVTsP8NnOU_OfZXNMGg/file# [following]\n",
      "--2022-12-21 10:46:43--  https://ucdfdbb41f40e907e60459c8a068.dl.dropboxusercontent.com/cd/0/inline/BzAU0xrZgM-1Mm53_DQDuRRxpjy5loFWoVNrNMp_9tHAvLfWEbSC3X2evujNx69ce1PiSTUpUAmOSy2EQ3iCwqi_XThxExkDfNQD7dGDPE-Kt47jUrsMcv3jpqBDkv8dZwoo3TPNmxks0xh-wUpJIz9pI8VoVTsP8NnOU_OfZXNMGg/file\n",
      "Resolving ucdfdbb41f40e907e60459c8a068.dl.dropboxusercontent.com (ucdfdbb41f40e907e60459c8a068.dl.dropboxusercontent.com)... 162.125.69.15\n",
      "Connecting to ucdfdbb41f40e907e60459c8a068.dl.dropboxusercontent.com (ucdfdbb41f40e907e60459c8a068.dl.dropboxusercontent.com)|162.125.69.15|:443... connected.\n",
      "HTTP request sent, awaiting response... 302 Found\n",
      "Location: /cd/0/inline2/BzCkHrQXNFhXSsp5H4T0iK8-vO63_f7rq88Fuwxa9NWv2lR0LJYYY7hOobb4RMcerU7IICMeyTW8L1dEe8ibt2WS9AoPazCns7LG6ViclLU8vhClKS8WD3Q_ulEfbDMBL1i2Qx5n8o8UalH6WFM6aVaJ0bwsGRyo1phYahGa6k_UNosMFqWygFIU4-JGJxoWEldZdwHulwOOv5H4VOBCaOtmQguMZyHAH1CCmdvflFx2Dc9kw4PiUJ91105SlIGjkwzwt1_5d9XcsysymYUlIK-Cm9kIJeQwYow5OmnUgNftz8SuA2U2boHFY8yrfEL_IuXyfCNMO-8fQ1l-DTa1YPqQtKRduCwJS3K2nkUbLHHP3xXn0tr34siIogr3RP90l8tl5lGlTJ7mxMh3YJIeWWs4vzLPhJm7CBhv1uaUbI6XuQ/file [following]\n",
      "--2022-12-21 10:46:44--  https://ucdfdbb41f40e907e60459c8a068.dl.dropboxusercontent.com/cd/0/inline2/BzCkHrQXNFhXSsp5H4T0iK8-vO63_f7rq88Fuwxa9NWv2lR0LJYYY7hOobb4RMcerU7IICMeyTW8L1dEe8ibt2WS9AoPazCns7LG6ViclLU8vhClKS8WD3Q_ulEfbDMBL1i2Qx5n8o8UalH6WFM6aVaJ0bwsGRyo1phYahGa6k_UNosMFqWygFIU4-JGJxoWEldZdwHulwOOv5H4VOBCaOtmQguMZyHAH1CCmdvflFx2Dc9kw4PiUJ91105SlIGjkwzwt1_5d9XcsysymYUlIK-Cm9kIJeQwYow5OmnUgNftz8SuA2U2boHFY8yrfEL_IuXyfCNMO-8fQ1l-DTa1YPqQtKRduCwJS3K2nkUbLHHP3xXn0tr34siIogr3RP90l8tl5lGlTJ7mxMh3YJIeWWs4vzLPhJm7CBhv1uaUbI6XuQ/file\n",
      "Reusing existing connection to ucdfdbb41f40e907e60459c8a068.dl.dropboxusercontent.com:443.\n",
      "HTTP request sent, awaiting response... 200 OK\n",
      "Length: 178390 (174K) [application/octet-stream]\n",
      "Saving to: ‘data/residuals_261.pkl’\n",
      "\n",
      "residuals_261.pkl   100%[===================>] 174,21K  --.-KB/s    in 0,05s   \n",
      "\n",
      "2022-12-21 10:46:45 (3,30 MB/s) - ‘data/residuals_261.pkl’ saved [178390/178390]\n",
      "\n"
     ]
    }
   ],
   "source": [
    "!wget https://www.dropbox.com/s/3uqleyc3wyz52tr/residuals_261.pkl -P data/"
   ]
  },
  {
   "cell_type": "markdown",
   "metadata": {},
   "source": [
    "5\\. **Temperatures in Munich**\n",
    "\n",
    "Get the following data file:\n",
    "\n",
    "```bash\n",
    "https://www.dropbox.com/s/7gy9yjl00ymxb8h/munich_temperatures_average_with_bad_data.txt\n",
    "```\n",
    "\n",
    "which gives the temperature in Munich every day for several years.\n",
    "\n",
    "\n",
    "Fit the following function to the data:\n",
    "\n",
    "$$f(t) = a \\cos(2\\pi t + b)+c$$\n",
    "\n",
    "where $t$ is the time in years.\n",
    "\n",
    "- Make a plot of the data and the best-fit model in the range 2008 to 2012.\n",
    "\n",
    "   - What are the best-fit values of the parameters?\n",
    "\n",
    "   - What is the overall average temperature in Munich, and what are the typical daily average values predicted by the model for the coldest and hottest time of year?\n",
    "\n",
    "   - What is the meaning of the $b$ parameter, and what physical sense does it have?\n",
    "\n",
    "\n",
    "- Now fit the data with the function $g(x)$, which has 1 more parameter than $f(x)$.\n",
    "$$g(x) = a \\cos(2\\pi b t + c)+d$$\n",
    "   - What are the RSS for $f(x)$ and $g(x)$?\n",
    "   - Use the Fisher F-test to determine whether the additional parameter is motivated."
   ]
  },
  {
   "cell_type": "code",
   "execution_count": 1,
   "metadata": {},
   "outputs": [
    {
     "name": "stdout",
     "output_type": "stream",
     "text": [
      "--2022-12-21 10:55:47--  https://www.dropbox.com/s/7gy9yjl00ymxb8h/munich_temperatures_average_with_bad_data.txt\n",
      "Resolving www.dropbox.com (www.dropbox.com)... 162.125.69.18\n",
      "Connecting to www.dropbox.com (www.dropbox.com)|162.125.69.18|:443... connected.\n",
      "HTTP request sent, awaiting response... 302 Found\n",
      "Location: /s/raw/7gy9yjl00ymxb8h/munich_temperatures_average_with_bad_data.txt [following]\n",
      "--2022-12-21 10:55:47--  https://www.dropbox.com/s/raw/7gy9yjl00ymxb8h/munich_temperatures_average_with_bad_data.txt\n",
      "Reusing existing connection to www.dropbox.com:443.\n",
      "HTTP request sent, awaiting response... 302 Found\n",
      "Location: https://ucb31d54b6f935ece7b133ae5fa4.dl.dropboxusercontent.com/cd/0/inline/BzA-bHQ93-FMcNuthFF6oo2_RaKW0qFItwhxk-Ye51FJTkoGsjZDkQ9pMnNkbMet_vSEptis_3gKfa42djBchH2N_xDzbrgVDi7bKWiL8aRpMrfYpdR6v30l3mCFQroArEex60MtiGsrVNelpmxU7jiRiRpURsDnjR_32wD3fiBIbQ/file# [following]\n",
      "--2022-12-21 10:55:47--  https://ucb31d54b6f935ece7b133ae5fa4.dl.dropboxusercontent.com/cd/0/inline/BzA-bHQ93-FMcNuthFF6oo2_RaKW0qFItwhxk-Ye51FJTkoGsjZDkQ9pMnNkbMet_vSEptis_3gKfa42djBchH2N_xDzbrgVDi7bKWiL8aRpMrfYpdR6v30l3mCFQroArEex60MtiGsrVNelpmxU7jiRiRpURsDnjR_32wD3fiBIbQ/file\n",
      "Resolving ucb31d54b6f935ece7b133ae5fa4.dl.dropboxusercontent.com (ucb31d54b6f935ece7b133ae5fa4.dl.dropboxusercontent.com)... 162.125.69.15\n",
      "Connecting to ucb31d54b6f935ece7b133ae5fa4.dl.dropboxusercontent.com (ucb31d54b6f935ece7b133ae5fa4.dl.dropboxusercontent.com)|162.125.69.15|:443... connected.\n",
      "HTTP request sent, awaiting response... 200 OK\n",
      "Length: 125482 (123K) [text/plain]\n",
      "Saving to: ‘data/munich_temperatures_average_with_bad_data.txt’\n",
      "\n",
      "munich_temperatures 100%[===================>] 122,54K  --.-KB/s    in 0,05s   \n",
      "\n",
      "2022-12-21 10:55:48 (2,30 MB/s) - ‘data/munich_temperatures_average_with_bad_data.txt’ saved [125482/125482]\n",
      "\n"
     ]
    }
   ],
   "source": [
    "!wget https://www.dropbox.com/s/7gy9yjl00ymxb8h/munich_temperatures_average_with_bad_data.txt -P data/"
   ]
  },
  {
   "cell_type": "code",
   "execution_count": null,
   "metadata": {},
   "outputs": [],
   "source": []
  },
  {
   "cell_type": "code",
   "execution_count": null,
   "metadata": {},
   "outputs": [],
   "source": [
    "def f(t, a, b, c):\n",
    "    return (a * np.cos(2*np.pi*t + b) + c)\n",
    "\n",
    "def g(t, a, b, c, d):\n",
    "    return (a * np.cos(2*np.pi*t*b + c) + d)"
   ]
  },
  {
   "cell_type": "code",
   "execution_count": null,
   "metadata": {},
   "outputs": [],
   "source": []
  }
 ],
 "metadata": {
  "kernelspec": {
   "display_name": "Python 3",
   "language": "python",
   "name": "python3"
  },
  "language_info": {
   "codemirror_mode": {
    "name": "ipython",
    "version": 3
   },
   "file_extension": ".py",
   "mimetype": "text/x-python",
   "name": "python",
   "nbconvert_exporter": "python",
   "pygments_lexer": "ipython3",
   "version": "3.10.5 (v3.10.5:f377153967, Jun  6 2022, 12:36:10) [Clang 13.0.0 (clang-1300.0.29.30)]"
  },
  "vscode": {
   "interpreter": {
    "hash": "7e1998ff7f8aa20ada591c520b972326324e5ea05489af9e422744c7c09f6dad"
   }
  }
 },
 "nbformat": 4,
 "nbformat_minor": 2
}
